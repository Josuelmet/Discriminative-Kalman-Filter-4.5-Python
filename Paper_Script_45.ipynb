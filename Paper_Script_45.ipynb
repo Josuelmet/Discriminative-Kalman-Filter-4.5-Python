{
 "cells": [
  {
   "cell_type": "markdown",
   "id": "6dbec869-b2c3-4873-8789-cf8e48bfe337",
   "metadata": {},
   "source": [
    "# Paper Script 4.5: Flint Dataset"
   ]
  },
  {
   "cell_type": "code",
   "execution_count": 1,
   "id": "17d972d8-503d-4c4d-8540-831d98f82b26",
   "metadata": {
    "tags": []
   },
   "outputs": [],
   "source": [
    "import numpy as np\n",
    "import matplotlib.pyplot as plt\n",
    "import os\n",
    "import pandas as pd\n",
    "import time\n",
    "\n",
    "import torch\n",
    "from torch import nn\n",
    "from torch.autograd.functional import jacobian\n",
    "\n",
    "\n",
    "from sklearn.gaussian_process import GaussianProcessRegressor\n",
    "\n",
    "from filterpy.kalman import *\n",
    "\n",
    "# Helper functions:\n",
    "from matdiv import matdiv\n",
    "from KalmanPredict import KalmanPredict\n",
    "from DKF_filtering import DKF_filtering\n",
    "from DKF_NN import train_nn, predict_nn\n",
    "from nw_est import nw_est\n",
    "from optimize_sx import optimize_sx\n",
    "from DKF_LSTM import LSTM1, run_lstm"
   ]
  },
  {
   "cell_type": "markdown",
   "id": "e277b38b-a51b-4efb-bd7a-ae263c4d0a91",
   "metadata": {},
   "source": [
    "### 1) Load Preprocessed Data"
   ]
  },
  {
   "cell_type": "code",
   "execution_count": 2,
   "id": "602aa991-2258-438b-ae48-e259720e249f",
   "metadata": {},
   "outputs": [],
   "source": [
    "procd_velocities = np.load('flint-data-preprocessing/procd_velocities.npy', allow_pickle=True)\n",
    "procd_spikes = np.load('flint-data-preprocessing/procd_spikes.npy', allow_pickle=True)"
   ]
  },
  {
   "cell_type": "markdown",
   "id": "068ad646-499c-4bca-b58f-7f8504e4f775",
   "metadata": {},
   "source": [
    "### 2) Setup"
   ]
  },
  {
   "cell_type": "code",
   "execution_count": 3,
   "id": "bd11ee49-45a9-43b5-aca7-5c4098cbb605",
   "metadata": {
    "tags": []
   },
   "outputs": [],
   "source": [
    "# Fix the RNG states.\n",
    "seed = 42 # nine additional random seeds: 0, 1, 2, 3, 4, 5, 6, 7, 8\n",
    "rng = np.random.default_rng(seed)\n",
    "torch.manual_seed(seed)\n",
    "\n",
    "\n",
    "dz = 2  # Dimension of z\n",
    "dx = 10 # Dimension of x\n",
    "\n",
    "# Specify train (idx0) and test (idx1) indices:\n",
    "idx0 = np.arange(0,5000)\n",
    "idx1 = np.arange(5000, 6000)\n",
    "n0 = len(idx0)\n",
    "n1 = len(idx1)\n",
    "\n",
    "\n",
    "columns = ['zero', 'K',\n",
    "           'NN', 'DKF_NN',\n",
    "           'GP', 'DKF_GP',\n",
    "           'NW', 'DKF_NW', \n",
    "           'LSTM', 'DKF_LSTM',\n",
    "           'EKF', 'UKF']\n",
    "\n",
    "zpred = pd.DataFrame(columns=columns, dtype=object) # Predicted z-variables (velocities).\n",
    "#rtime = pd.DataFrame(columns=columns) # Runtime\n",
    "rmse  = pd.DataFrame(columns=columns) # Root mean squared error\n",
    "nrmse = pd.DataFrame(columns=columns) # Normalized root mean squared error.\n",
    "maae  = pd.DataFrame(columns=columns) # Mean absolute angle error"
   ]
  },
  {
   "cell_type": "markdown",
   "id": "a3c39af0-6fbd-428e-b796-7b9a5c3ccb25",
   "metadata": {
    "tags": []
   },
   "source": [
    "### 3) For each dataset, run filtering"
   ]
  },
  {
   "cell_type": "code",
   "execution_count": 4,
   "id": "615391b1-3a5a-4e9e-b95c-eb2202008b11",
   "metadata": {},
   "outputs": [
    {
     "name": "stdout",
     "output_type": "stream",
     "text": [
      "\n",
      "Iteration 0:\n",
      "DKF-NN\n"
     ]
    },
    {
     "name": "stderr",
     "output_type": "stream",
     "text": [
      "C:\\Users\\josue\\Documents\\Python Scripts\\DKF\\Python_Paper_45\\nw_est.py:26: RuntimeWarning: invalid value encountered in true_divide\n",
      "  f_est = xP / sP\n",
      "C:\\Users\\josue\\Documents\\Python Scripts\\DKF\\Python_Paper_45\\optimize_sx.py:42: RuntimeWarning: Mean of empty slice\n",
      "  return np.nanmean((xtrain - preds) ** 2)\n"
     ]
    },
    {
     "name": "stdout",
     "output_type": "stream",
     "text": [
      "DKF-GP\n"
     ]
    },
    {
     "name": "stderr",
     "output_type": "stream",
     "text": [
      "C:\\Users\\josue\\Documents\\Python Scripts\\DKF\\Python_Paper_45\\nw_est.py:26: RuntimeWarning: invalid value encountered in true_divide\n",
      "  f_est = xP / sP\n",
      "C:\\Users\\josue\\Documents\\Python Scripts\\DKF\\Python_Paper_45\\optimize_sx.py:42: RuntimeWarning: Mean of empty slice\n",
      "  return np.nanmean((xtrain - preds) ** 2)\n"
     ]
    },
    {
     "name": "stdout",
     "output_type": "stream",
     "text": [
      "DKF-NW\n"
     ]
    },
    {
     "name": "stderr",
     "output_type": "stream",
     "text": [
      "C:\\Users\\josue\\Documents\\Python Scripts\\DKF\\Python_Paper_45\\nw_est.py:26: RuntimeWarning: invalid value encountered in true_divide\n",
      "  f_est = xP / sP\n",
      "C:\\Users\\josue\\Documents\\Python Scripts\\DKF\\Python_Paper_45\\optimize_sx.py:42: RuntimeWarning: Mean of empty slice\n",
      "  return np.nanmean((xtrain - preds) ** 2)\n"
     ]
    },
    {
     "name": "stdout",
     "output_type": "stream",
     "text": [
      "DKF-LSTM\n",
      "EKF\n",
      "UKF\n",
      "\n",
      "Iteration 1:\n",
      "DKF-NN\n"
     ]
    },
    {
     "name": "stderr",
     "output_type": "stream",
     "text": [
      "C:\\Users\\josue\\Documents\\Python Scripts\\DKF\\Python_Paper_45\\nw_est.py:26: RuntimeWarning: invalid value encountered in true_divide\n",
      "  f_est = xP / sP\n",
      "C:\\Users\\josue\\Documents\\Python Scripts\\DKF\\Python_Paper_45\\optimize_sx.py:42: RuntimeWarning: Mean of empty slice\n",
      "  return np.nanmean((xtrain - preds) ** 2)\n"
     ]
    },
    {
     "name": "stdout",
     "output_type": "stream",
     "text": [
      "DKF-GP\n"
     ]
    },
    {
     "name": "stderr",
     "output_type": "stream",
     "text": [
      "C:\\Users\\josue\\Documents\\Python Scripts\\DKF\\Python_Paper_45\\nw_est.py:26: RuntimeWarning: invalid value encountered in true_divide\n",
      "  f_est = xP / sP\n",
      "C:\\Users\\josue\\Documents\\Python Scripts\\DKF\\Python_Paper_45\\optimize_sx.py:42: RuntimeWarning: Mean of empty slice\n",
      "  return np.nanmean((xtrain - preds) ** 2)\n"
     ]
    },
    {
     "name": "stdout",
     "output_type": "stream",
     "text": [
      "DKF-NW\n"
     ]
    },
    {
     "name": "stderr",
     "output_type": "stream",
     "text": [
      "C:\\Users\\josue\\Documents\\Python Scripts\\DKF\\Python_Paper_45\\nw_est.py:26: RuntimeWarning: invalid value encountered in true_divide\n",
      "  f_est = xP / sP\n",
      "C:\\Users\\josue\\Documents\\Python Scripts\\DKF\\Python_Paper_45\\optimize_sx.py:42: RuntimeWarning: Mean of empty slice\n",
      "  return np.nanmean((xtrain - preds) ** 2)\n"
     ]
    },
    {
     "name": "stdout",
     "output_type": "stream",
     "text": [
      "DKF-LSTM\n",
      "EKF\n",
      "UKF\n",
      "\n",
      "Iteration 2:\n",
      "DKF-NN\n"
     ]
    },
    {
     "name": "stderr",
     "output_type": "stream",
     "text": [
      "C:\\Users\\josue\\Documents\\Python Scripts\\DKF\\Python_Paper_45\\nw_est.py:26: RuntimeWarning: invalid value encountered in true_divide\n",
      "  f_est = xP / sP\n",
      "C:\\Users\\josue\\Documents\\Python Scripts\\DKF\\Python_Paper_45\\optimize_sx.py:42: RuntimeWarning: Mean of empty slice\n",
      "  return np.nanmean((xtrain - preds) ** 2)\n"
     ]
    },
    {
     "name": "stdout",
     "output_type": "stream",
     "text": [
      "DKF-GP\n"
     ]
    },
    {
     "name": "stderr",
     "output_type": "stream",
     "text": [
      "C:\\Users\\josue\\Documents\\Python Scripts\\DKF\\Python_Paper_45\\nw_est.py:26: RuntimeWarning: invalid value encountered in true_divide\n",
      "  f_est = xP / sP\n",
      "C:\\Users\\josue\\Documents\\Python Scripts\\DKF\\Python_Paper_45\\optimize_sx.py:42: RuntimeWarning: Mean of empty slice\n",
      "  return np.nanmean((xtrain - preds) ** 2)\n"
     ]
    },
    {
     "name": "stdout",
     "output_type": "stream",
     "text": [
      "DKF-NW\n"
     ]
    },
    {
     "name": "stderr",
     "output_type": "stream",
     "text": [
      "C:\\Users\\josue\\Documents\\Python Scripts\\DKF\\Python_Paper_45\\nw_est.py:26: RuntimeWarning: invalid value encountered in true_divide\n",
      "  f_est = xP / sP\n",
      "C:\\Users\\josue\\Documents\\Python Scripts\\DKF\\Python_Paper_45\\optimize_sx.py:42: RuntimeWarning: Mean of empty slice\n",
      "  return np.nanmean((xtrain - preds) ** 2)\n"
     ]
    },
    {
     "name": "stdout",
     "output_type": "stream",
     "text": [
      "DKF-LSTM\n",
      "EKF\n",
      "UKF\n",
      "\n",
      "Iteration 3:\n",
      "DKF-NN\n"
     ]
    },
    {
     "name": "stderr",
     "output_type": "stream",
     "text": [
      "C:\\Users\\josue\\Documents\\Python Scripts\\DKF\\Python_Paper_45\\nw_est.py:26: RuntimeWarning: invalid value encountered in true_divide\n",
      "  f_est = xP / sP\n",
      "C:\\Users\\josue\\Documents\\Python Scripts\\DKF\\Python_Paper_45\\optimize_sx.py:42: RuntimeWarning: Mean of empty slice\n",
      "  return np.nanmean((xtrain - preds) ** 2)\n"
     ]
    },
    {
     "name": "stdout",
     "output_type": "stream",
     "text": [
      "DKF-GP\n"
     ]
    },
    {
     "name": "stderr",
     "output_type": "stream",
     "text": [
      "C:\\Users\\josue\\Documents\\Python Scripts\\DKF\\Python_Paper_45\\nw_est.py:26: RuntimeWarning: invalid value encountered in true_divide\n",
      "  f_est = xP / sP\n",
      "C:\\Users\\josue\\Documents\\Python Scripts\\DKF\\Python_Paper_45\\optimize_sx.py:42: RuntimeWarning: Mean of empty slice\n",
      "  return np.nanmean((xtrain - preds) ** 2)\n"
     ]
    },
    {
     "name": "stdout",
     "output_type": "stream",
     "text": [
      "DKF-NW\n"
     ]
    },
    {
     "name": "stderr",
     "output_type": "stream",
     "text": [
      "C:\\Users\\josue\\Documents\\Python Scripts\\DKF\\Python_Paper_45\\nw_est.py:26: RuntimeWarning: invalid value encountered in true_divide\n",
      "  f_est = xP / sP\n",
      "C:\\Users\\josue\\Documents\\Python Scripts\\DKF\\Python_Paper_45\\optimize_sx.py:42: RuntimeWarning: Mean of empty slice\n",
      "  return np.nanmean((xtrain - preds) ** 2)\n"
     ]
    },
    {
     "name": "stdout",
     "output_type": "stream",
     "text": [
      "DKF-LSTM\n",
      "EKF\n",
      "UKF\n",
      "\n",
      "Iteration 4:\n",
      "DKF-NN\n"
     ]
    },
    {
     "name": "stderr",
     "output_type": "stream",
     "text": [
      "C:\\Users\\josue\\Documents\\Python Scripts\\DKF\\Python_Paper_45\\nw_est.py:26: RuntimeWarning: invalid value encountered in true_divide\n",
      "  f_est = xP / sP\n",
      "C:\\Users\\josue\\Documents\\Python Scripts\\DKF\\Python_Paper_45\\optimize_sx.py:42: RuntimeWarning: Mean of empty slice\n",
      "  return np.nanmean((xtrain - preds) ** 2)\n"
     ]
    },
    {
     "name": "stdout",
     "output_type": "stream",
     "text": [
      "DKF-GP\n"
     ]
    },
    {
     "name": "stderr",
     "output_type": "stream",
     "text": [
      "C:\\Users\\josue\\Documents\\Python Scripts\\DKF\\Python_Paper_45\\nw_est.py:26: RuntimeWarning: invalid value encountered in true_divide\n",
      "  f_est = xP / sP\n",
      "C:\\Users\\josue\\Documents\\Python Scripts\\DKF\\Python_Paper_45\\optimize_sx.py:42: RuntimeWarning: Mean of empty slice\n",
      "  return np.nanmean((xtrain - preds) ** 2)\n"
     ]
    },
    {
     "name": "stdout",
     "output_type": "stream",
     "text": [
      "DKF-NW\n"
     ]
    },
    {
     "name": "stderr",
     "output_type": "stream",
     "text": [
      "C:\\Users\\josue\\Documents\\Python Scripts\\DKF\\Python_Paper_45\\nw_est.py:26: RuntimeWarning: invalid value encountered in true_divide\n",
      "  f_est = xP / sP\n",
      "C:\\Users\\josue\\Documents\\Python Scripts\\DKF\\Python_Paper_45\\optimize_sx.py:42: RuntimeWarning: Mean of empty slice\n",
      "  return np.nanmean((xtrain - preds) ** 2)\n"
     ]
    },
    {
     "name": "stdout",
     "output_type": "stream",
     "text": [
      "DKF-LSTM\n",
      "EKF\n",
      "UKF\n",
      "\n",
      "Iteration 5:\n",
      "DKF-NN\n"
     ]
    },
    {
     "name": "stderr",
     "output_type": "stream",
     "text": [
      "C:\\Users\\josue\\Documents\\Python Scripts\\DKF\\Python_Paper_45\\nw_est.py:26: RuntimeWarning: invalid value encountered in true_divide\n",
      "  f_est = xP / sP\n",
      "C:\\Users\\josue\\Documents\\Python Scripts\\DKF\\Python_Paper_45\\optimize_sx.py:42: RuntimeWarning: Mean of empty slice\n",
      "  return np.nanmean((xtrain - preds) ** 2)\n"
     ]
    },
    {
     "name": "stdout",
     "output_type": "stream",
     "text": [
      "DKF-GP\n"
     ]
    },
    {
     "name": "stderr",
     "output_type": "stream",
     "text": [
      "C:\\Users\\josue\\Documents\\Python Scripts\\DKF\\Python_Paper_45\\nw_est.py:26: RuntimeWarning: invalid value encountered in true_divide\n",
      "  f_est = xP / sP\n",
      "C:\\Users\\josue\\Documents\\Python Scripts\\DKF\\Python_Paper_45\\optimize_sx.py:42: RuntimeWarning: Mean of empty slice\n",
      "  return np.nanmean((xtrain - preds) ** 2)\n"
     ]
    },
    {
     "name": "stdout",
     "output_type": "stream",
     "text": [
      "DKF-NW\n"
     ]
    },
    {
     "name": "stderr",
     "output_type": "stream",
     "text": [
      "C:\\Users\\josue\\Documents\\Python Scripts\\DKF\\Python_Paper_45\\nw_est.py:26: RuntimeWarning: invalid value encountered in true_divide\n",
      "  f_est = xP / sP\n",
      "C:\\Users\\josue\\Documents\\Python Scripts\\DKF\\Python_Paper_45\\optimize_sx.py:42: RuntimeWarning: Mean of empty slice\n",
      "  return np.nanmean((xtrain - preds) ** 2)\n"
     ]
    },
    {
     "name": "stdout",
     "output_type": "stream",
     "text": [
      "DKF-LSTM\n",
      "EKF\n",
      "UKF\n",
      "\n",
      "Iteration 8:\n",
      "DKF-NN\n"
     ]
    },
    {
     "name": "stderr",
     "output_type": "stream",
     "text": [
      "C:\\Users\\josue\\Documents\\Python Scripts\\DKF\\Python_Paper_45\\nw_est.py:26: RuntimeWarning: invalid value encountered in true_divide\n",
      "  f_est = xP / sP\n",
      "C:\\Users\\josue\\Documents\\Python Scripts\\DKF\\Python_Paper_45\\optimize_sx.py:42: RuntimeWarning: Mean of empty slice\n",
      "  return np.nanmean((xtrain - preds) ** 2)\n"
     ]
    },
    {
     "name": "stdout",
     "output_type": "stream",
     "text": [
      "DKF-GP\n"
     ]
    },
    {
     "name": "stderr",
     "output_type": "stream",
     "text": [
      "C:\\Users\\josue\\Documents\\Python Scripts\\DKF\\Python_Paper_45\\nw_est.py:26: RuntimeWarning: invalid value encountered in true_divide\n",
      "  f_est = xP / sP\n",
      "C:\\Users\\josue\\Documents\\Python Scripts\\DKF\\Python_Paper_45\\optimize_sx.py:42: RuntimeWarning: Mean of empty slice\n",
      "  return np.nanmean((xtrain - preds) ** 2)\n"
     ]
    },
    {
     "name": "stdout",
     "output_type": "stream",
     "text": [
      "DKF-NW\n"
     ]
    },
    {
     "name": "stderr",
     "output_type": "stream",
     "text": [
      "C:\\Users\\josue\\Documents\\Python Scripts\\DKF\\Python_Paper_45\\nw_est.py:26: RuntimeWarning: invalid value encountered in true_divide\n",
      "  f_est = xP / sP\n",
      "C:\\Users\\josue\\Documents\\Python Scripts\\DKF\\Python_Paper_45\\optimize_sx.py:42: RuntimeWarning: Mean of empty slice\n",
      "  return np.nanmean((xtrain - preds) ** 2)\n"
     ]
    },
    {
     "name": "stdout",
     "output_type": "stream",
     "text": [
      "DKF-LSTM\n",
      "EKF\n",
      "UKF\n",
      "\n",
      "Iteration 9:\n",
      "DKF-NN\n"
     ]
    },
    {
     "name": "stderr",
     "output_type": "stream",
     "text": [
      "C:\\Users\\josue\\Documents\\Python Scripts\\DKF\\Python_Paper_45\\nw_est.py:26: RuntimeWarning: invalid value encountered in true_divide\n",
      "  f_est = xP / sP\n",
      "C:\\Users\\josue\\Documents\\Python Scripts\\DKF\\Python_Paper_45\\optimize_sx.py:42: RuntimeWarning: Mean of empty slice\n",
      "  return np.nanmean((xtrain - preds) ** 2)\n"
     ]
    },
    {
     "name": "stdout",
     "output_type": "stream",
     "text": [
      "DKF-GP\n"
     ]
    },
    {
     "name": "stderr",
     "output_type": "stream",
     "text": [
      "C:\\Users\\josue\\Documents\\Python Scripts\\DKF\\Python_Paper_45\\nw_est.py:26: RuntimeWarning: invalid value encountered in true_divide\n",
      "  f_est = xP / sP\n",
      "C:\\Users\\josue\\Documents\\Python Scripts\\DKF\\Python_Paper_45\\optimize_sx.py:42: RuntimeWarning: Mean of empty slice\n",
      "  return np.nanmean((xtrain - preds) ** 2)\n"
     ]
    },
    {
     "name": "stdout",
     "output_type": "stream",
     "text": [
      "DKF-NW\n"
     ]
    },
    {
     "name": "stderr",
     "output_type": "stream",
     "text": [
      "C:\\Users\\josue\\Documents\\Python Scripts\\DKF\\Python_Paper_45\\nw_est.py:26: RuntimeWarning: invalid value encountered in true_divide\n",
      "  f_est = xP / sP\n",
      "C:\\Users\\josue\\Documents\\Python Scripts\\DKF\\Python_Paper_45\\optimize_sx.py:42: RuntimeWarning: Mean of empty slice\n",
      "  return np.nanmean((xtrain - preds) ** 2)\n"
     ]
    },
    {
     "name": "stdout",
     "output_type": "stream",
     "text": [
      "DKF-LSTM\n",
      "EKF\n",
      "UKF\n"
     ]
    }
   ],
   "source": [
    "# The authors only ran through 6 subjects/trials, but this code attempts to do more than 6.\n",
    "# However, certain experiments do not have 6000 samples.\n",
    "for iRun in range(procd_velocities.shape[0]):\n",
    "\n",
    "    # Skip the trial if it does not have a sufficient amount of samples.\n",
    "    if procd_velocities[iRun].shape[0] < idx1[-1]:\n",
    "        continue\n",
    "    \n",
    "    print(f'\\nIteration {iRun}:')\n",
    "\n",
    "    vel = procd_velocities[iRun]\n",
    "    spk = procd_spikes[iRun]\n",
    "    \n",
    "    # Shift data so that velocity data is paired with correct neural data.\n",
    "    z = vel[1:].T\n",
    "    x = spk[:-1].T\n",
    "    \n",
    "    # Split into train and test\n",
    "    z0 = z[:, idx0]\n",
    "    z1 = z[:, idx1]\n",
    "    x0 = x[:, idx0]\n",
    "    x1 = x[:, idx1]\n",
    "    \n",
    "    # Convert training and test data to tall Tensors.\n",
    "    z0_tensor = torch.from_numpy(z0).float().T\n",
    "    z1_tensor = torch.from_numpy(z1).float().T\n",
    "    x0_tensor = torch.from_numpy(x0).float().T\n",
    "    x1_tensor = torch.from_numpy(x1).float().T\n",
    "    \n",
    "    \n",
    "    '''\n",
    "    0) Zero Prediction --------------------------------------------\n",
    "    '''\n",
    "    \n",
    "    # Constant baseline \"no prediction\" at mean\n",
    "    zpred.loc[iRun, 'zero'] = z1 * 0\n",
    "    \n",
    "    \n",
    "    '''\n",
    "    1) Kalman Filter ----------------------------------------------\n",
    "    '''\n",
    "    # Learn parameters for Kalman filter\n",
    "    z01 = z0[:, 1:]\n",
    "    z00 = z0[:, :-1]\n",
    "    A0 = matdiv(z01, z00)\n",
    "    G0 = (z01 - A0.dot(z00)).dot((z01 - A0.dot(z00)).T) / n0\n",
    "    C0 = matdiv(x0, z0)\n",
    "    S0 = (x0 - C0.dot(z0)).dot((x0 - C0.dot(z0)).T) / n0\n",
    "    \n",
    "    # Run Kalman Filter\n",
    "    tic = time.time()\n",
    "    result, _ = KalmanPredict(x=x1, A=A0,\n",
    "                              C=C0, S=S0, G=G0,\n",
    "                              mu0=np.zeros(dz),\n",
    "                              V0=np.cov(z0.T, rowvar=False))\n",
    "    zpred.loc[iRun, 'K'] = result\n",
    "    #rtime.loc[iRun, 'K'] = time.time() - tic\n",
    "    \n",
    "    \n",
    "    \n",
    "    '''\n",
    "    2) DKF-NN ----------------------------------------------------\n",
    "    '''\n",
    "    \n",
    "    print('DKF-NN')\n",
    "    \n",
    "    # Split x0 and z0 into training and hold-out test data, then convert to tall Tensors:\n",
    "    \n",
    "    # Randomly shuffle the array of training data indices [0, 1, ..., idx0].\n",
    "    indices  = rng.permutation(idx0)\n",
    "    # 70% of the training data will serve for model training.\n",
    "    # The other 30% will serve as held-out trainingdata for regression calibration.\n",
    "    boundary = int(0.7 * n0)\n",
    "    \n",
    "    # Get x0_test and z0_test, which are the test subset of x0.\n",
    "    x0_train = x0[:, indices[:boundary]]\n",
    "    x0_test  = x0[:, indices[boundary:]]\n",
    "    \n",
    "    z0_train = z0[:, indices[:boundary]]\n",
    "    z0_test  = z0[:, indices[boundary:]]\n",
    "    \n",
    "    # Get the tensor forms of x0_train/test and z0_train/test.\n",
    "    # They will be tall Tensors.\n",
    "    x0_train_tensor = torch.from_numpy(x0_train).float().T\n",
    "    x0_test_tensor  = torch.from_numpy(x0_test).float().T\n",
    "    \n",
    "    z0_train_tensor = torch.from_numpy(z0_train).float().T\n",
    "    z0_test_tensor  = torch.from_numpy(z0_test).float().T\n",
    "    \n",
    "\n",
    "    n0_train = x0_train.shape[1] # length of training data from training set.\n",
    "    n0_test  = x0_test.shape[1]  # length of heldout (test) data from training set.\n",
    "    \n",
    "    \n",
    "    input_size = dx\n",
    "    hidden_sizes = [10, 10]\n",
    "    output_size = dz\n",
    "    \n",
    "    \n",
    "    model = nn.Sequential(nn.Linear(input_size, hidden_sizes[0]),\n",
    "                          nn.Tanh(), \n",
    "                          nn.Linear(hidden_sizes[0], hidden_sizes[1]),\n",
    "                          nn.Tanh(), \n",
    "                          nn.Linear(hidden_sizes[0], output_size))\n",
    "    \n",
    "    \n",
    "    nn_loss = train_nn(model, learning_rate=1e-3, weight_decay=1e-4, iterations=4000, # 2000\n",
    "                       x_train=x0_train_tensor,\n",
    "                       y_train=z0_train_tensor)   \n",
    "\n",
    "    \n",
    "    # Calibrate prediction method using held-out data, then get predicted data from NN.\n",
    "    u_means_nn, u_vars_nn, tic = predict_nn(model=model, x0_test=x0_test, x0_test_tensor=x0_test_tensor,\n",
    "                                            z0_test=z0_test, x1=x1, x1_tensor=x1_tensor)\n",
    "    \n",
    "    # Store raw NN prediction\n",
    "    zpred.loc[iRun, 'NN'] = u_means_nn\n",
    "    # predict DKF-NN\n",
    "    zpred.loc[iRun, 'DKF_NN'] = DKF_filtering(means = u_means_nn, _vars = u_vars_nn, A = A0, G = G0, VZ = np.cov(z0.T, rowvar=False))\n",
    "    #rtime.loc[iRun, 'DKF_NN'] = time.time() - tic;\n",
    "        \n",
    "        \n",
    "        \n",
    "    \n",
    "    '''\n",
    "    3) DKF-GP ----------------------------------------------------------------\n",
    "    '''\n",
    "        \n",
    "    '''\n",
    "    Use one Gaussian process for both dimensions of z,\n",
    "    unlike in the paper, which used two processes, one for each dimension of z.\n",
    "    Also unlike the paper, the hyperparameters are mostly fixed in these GP regressions.\n",
    "    The kernel used is the default kernel of GaussianProcessRegressor.\n",
    "    These simplifications were made to because of:\n",
    "        * The difficulty of using the GPML Matlab package in Python (especially given its age).\n",
    "        * The GaussianProcessRegressor optimizations often yielding very high kernel bandwidths.\n",
    "        * The big improvement in training time when using a simpler model.\n",
    "    '''\n",
    "    if True: # Change to False to skip DKF-GP.\n",
    "        \n",
    "        print('DKF-GP')\n",
    "        \n",
    "        gpr = GaussianProcessRegressor(random_state=seed, alpha=0.2, normalize_y=False).fit(x0_train.T, z0_train.T)\n",
    "        zgp0_test = gpr.predict(x0_test.T).T\n",
    "\n",
    "        z0resgp = zgp0_test - z0_test\n",
    "\n",
    "\n",
    "        z0resOutergp = np.zeros((dz**2, n0_test))\n",
    "        for t in range(n0_test):\n",
    "            z0resOutergp[:, t] = np.outer(z0resgp[:, t], z0resgp[:, t]).flatten()\n",
    "\n",
    "\n",
    "        sxresoptgp = optimize_sx(ztest = x0_test,\n",
    "                                 xtrain = z0resOutergp,\n",
    "                                 ztrain = x0_test)\n",
    "\n",
    "\n",
    "        tic = time.time()\n",
    "\n",
    "        u_means_gp = np.zeros((dz, n1))\n",
    "        u_vars_gp = np.zeros((dz, dz, n1))\n",
    "\n",
    "        for t in range(n1):\n",
    "            u_means_gp[:,t] = gpr.predict(x1[:, t:t+1].T)[0]\n",
    "\n",
    "            u_vars_gp[:, :, t] =  nw_est(ztest = x1[:, t:t+1].T,\n",
    "                                         xtrain = z0resOutergp.T,\n",
    "                                         ztrain = x0_test.T,\n",
    "                                         sz2 = sxresoptgp).reshape((dz, dz))\n",
    "\n",
    "        # Store raw GP prediction\n",
    "        zpred.loc[iRun, 'GP'] = u_means_gp\n",
    "        # predict DKF-GP\n",
    "        zpred.loc[iRun, 'DKF_GP'] = DKF_filtering(means = u_means_gp, _vars = u_vars_gp, A = A0, G = G0, VZ = np.cov(z0.T, rowvar=False))\n",
    "        #rtime.loc[iRun, 'DKF_GP'] = time.time() - tic\n",
    "    \n",
    "    \n",
    "    '''\n",
    "    4) DKF-NW -----------------------------------------------------------------\n",
    "    '''\n",
    "    if True: # Change to False to skip DKF-NW.\n",
    "        print('DKF-NW')\n",
    "\n",
    "        sxopt = optimize_sx(ztest = x0_train,\n",
    "                            xtrain = z0_train,\n",
    "                            ztrain = x0_train)\n",
    "\n",
    "\n",
    "        z0resnw = np.zeros_like(z0_test)\n",
    "\n",
    "        for i in range(n0_test):\n",
    "            z0resnw[:, i] = nw_est(ztest = x0_test[:, i:i+1].T,\n",
    "                                   xtrain = z0_train.T,\n",
    "                                   ztrain = x0_train.T,\n",
    "                                   sz2 = sxopt)\n",
    "\n",
    "        z0resnw = z0resnw - z0_test\n",
    "\n",
    "\n",
    "        z0resOuternw = np.zeros((dz**2, n0_test))\n",
    "\n",
    "        for t in range(n0_test):\n",
    "            z0resOuternw[:, t] = np.outer(z0resnw[:, t], z0resnw[:, t]).flatten()\n",
    "\n",
    "\n",
    "\n",
    "        sxresoptnw = optimize_sx(ztest = x0_test,\n",
    "                                 xtrain = z0resOuternw,\n",
    "                                 ztrain = x0_test)\n",
    "\n",
    "\n",
    "        # Predict nw\n",
    "        tic = time.time()\n",
    "\n",
    "        u_means_nw = np.zeros((dz, n1))\n",
    "        u_vars_nw = np.zeros((dz, dz, n1))\n",
    "\n",
    "        for t in range(n1):\n",
    "            u_means_nw[:, t] = nw_est(ztest = x1[:, t:t+1].T,\n",
    "                                      xtrain = z0.T,\n",
    "                                      ztrain = x0.T,\n",
    "                                      sz2 = sxopt)\n",
    "\n",
    "            u_vars_nw[:, :, t] = nw_est(ztest = x1[:, t:t+1].T,\n",
    "                                        xtrain = z0resOuternw.T,\n",
    "                                        ztrain = x0_test.T,\n",
    "                                        sz2 = sxresoptnw).reshape((dz, dz))\n",
    "\n",
    "        \n",
    "        # Store raw NW prediction\n",
    "        zpred.loc[iRun, 'NW'] = u_means_nw\n",
    "        # Predict DKF-NW\n",
    "        zpred.loc[iRun, 'DKF_NW'] = DKF_filtering(means = u_means_nw, _vars = u_vars_nw, A = A0, G = G0, VZ = np.cov(z0.T, rowvar=False))\n",
    "        #rtime.loc[iRun, 'DKF_NW'] = time.time() - tic;\n",
    "\n",
    "\n",
    "    \n",
    "    \n",
    "    \n",
    "    '''\n",
    "    5) LSTM --------------------------------------------------------------\n",
    "    '''\n",
    "\n",
    "    if True: # Change to False to skip DKF-LSTM.\n",
    "        print('LSTM')\n",
    "\n",
    "        input_size = 10 # Number of features\n",
    "        hidden_size = 20 # Number of features in hidden state\n",
    "        n_steps = 3 # Number of timesteps the LSTM can see before making a prediction.\n",
    "        num_layers = 1 #3 #number of stacked lstm layers\n",
    "        epochs = 300\n",
    "        \n",
    "        num_classes = 2 #number of output classes\n",
    "\n",
    "\n",
    "        lstm1 = LSTM1(num_classes, input_size, hidden_size, num_layers) #our lstm class \n",
    "\n",
    "        u_means_lstm, u_vars_lstm, tic, lstm_loss = run_lstm(lstm=lstm1, n_steps=n_steps, dx=dx, num_epochs=epochs,\n",
    "                                                             learning_rate=1e-3, weight_decay=1e-4,\n",
    "                                                             x0=x0, z0=z0, boundary=boundary,\n",
    "                                                             x1=x1, x1_tensor=x1_tensor)\n",
    "\n",
    "        # Store the unfiltered and DKF-filtered LSTM results.\n",
    "        zpred.loc[iRun, 'LSTM'] = u_means_lstm\n",
    "        #rtime.loc[iRun, 'LSTM'] = time.time() - tic\n",
    "        \n",
    "        zpred.loc[iRun, 'DKF_LSTM'] = DKF_filtering(means = u_means_lstm, _vars = u_vars_lstm, A = A0, G = G0, VZ = np.cov(z0.T, rowvar=False))\n",
    "        #rtime.loc[iRun, 'DKF_LSTM'] = time.time() - tic\n",
    "    \n",
    "    \n",
    "    \n",
    "    \n",
    "    '''\n",
    "    6) EKF ------------------------------------------------------------\n",
    "    '''\n",
    "    \n",
    "    if True: # Change to False to skip EKF.\n",
    "        print('EKF')\n",
    "    \n",
    "        # Train a model to learn R2 -> R10 transformation (z -> x)\n",
    "\n",
    "        input_size = dz\n",
    "        hidden_sizes = [10, 10]\n",
    "        output_size = dx\n",
    "\n",
    "        nnUKF = nn.Sequential(nn.Linear(input_size, hidden_sizes[0]),\n",
    "                              nn.Tanh(),\n",
    "                              nn.Linear(hidden_sizes[0], hidden_sizes[1]),\n",
    "                              nn.Tanh(),\n",
    "                              nn.Linear(hidden_sizes[0], output_size))\n",
    "\n",
    "\n",
    "        train_nn(nnUKF, learning_rate=1e-3, weight_decay=1e-4, iterations=4000, # 2000\n",
    "                 x_train=z0_train_tensor,\n",
    "                 y_train=x0_train_tensor)  \n",
    "\n",
    "\n",
    "        xnn0 = nnUKF(z0_test_tensor)\n",
    "        errEstUKF = (xnn0 - x0_test_tensor).detach().numpy().T\n",
    "        covEstUKF = np.cov(errEstUKF.T, rowvar=False)\n",
    "\n",
    "\n",
    "        '''\n",
    "        Extended Kalman Filter:\n",
    "\n",
    "        F  = A0 (state transition matrix)\n",
    "        Hx = nnUKF (observation function)\n",
    "\n",
    "        Initial state guess = [0, 0]\n",
    "\n",
    "        Process noise = G0\n",
    "        Measurement noise = covEstUKF\n",
    "        State covariance = cov(z0.T, rowvar=False)\n",
    "\n",
    "        '''\n",
    "\n",
    "        # Unlike the UKF class, the EKF class uses 2D column observations.\n",
    "        def Hx(x):\n",
    "            global nnUKF\n",
    "\n",
    "            tensor = torch.from_numpy(x.flatten()).float()\n",
    "            return nnUKF(tensor).detach().numpy().reshape(-1, 1)\n",
    "\n",
    "        def HJacobian(x, *hx_args):\n",
    "            '''\n",
    "            Return the Jacobian dH/dx around the point x.\n",
    "            '''\n",
    "            global nnUKF\n",
    "\n",
    "            tensor = torch.from_numpy(x.flatten()).float()\n",
    "\n",
    "            return jacobian(nnUKF, tensor).detach().numpy()    \n",
    "\n",
    "        '''\n",
    "        The notation is a bit confusing with the filterpy module, since\n",
    "        EKF and UKF's x is the latent state (our z), while\n",
    "        EKF and UKF's z is observations (our x).\n",
    "        '''\n",
    "\n",
    "        tic = time.time()\n",
    "\n",
    "        EKF = ExtendedKalmanFilter(dim_x=dz, dim_z=dx)\n",
    "\n",
    "        EKF.F = A0\n",
    "        EKF.Q = G0 # process noise\n",
    "        EKF.R = covEstUKF # observation noise\n",
    "        EKF.P = np.cov(z0.T, rowvar=False) # Initial state covariance\n",
    "\n",
    "        zEKF = np.zeros((dz, n1))\n",
    "\n",
    "        for i in range(n1):\n",
    "            EKF.predict_update(z=x1[:, i:i+1],\n",
    "                               HJacobian=HJacobian,\n",
    "                               Hx=Hx)\n",
    "            zEKF[:, i] = EKF.x.flatten()\n",
    "\n",
    "        zpred.loc[iRun, 'EKF'] = zEKF\n",
    "        #rtime.loc[iRun, 'EKF'] = time.time() - tic\n",
    "    \n",
    "    \n",
    "    '''\n",
    "    7) UKF -----------------------------------------------------------\n",
    "    '''\n",
    "    \n",
    "    if True: # Change to False to skip UKF.\n",
    "        print('UKF')\n",
    "\n",
    "        def fx(x, dt):\n",
    "            global A0\n",
    "            return A0.dot(x) # Ignore dt.\n",
    "\n",
    "        # Unlike the EKF class, the UKF class uses one-dimensional observations.\n",
    "        def Hx_1D(x):\n",
    "            global nnUKF\n",
    "\n",
    "            tensor = torch.from_numpy(x.flatten()).float()\n",
    "            return nnUKF(tensor).detach().numpy()\n",
    "\n",
    "        tic = time.time()\n",
    "\n",
    "        # Use MerweScaledSigmaPoints for alpha, beta, kappa parameters of Unscented Transform.\n",
    "        points = MerweScaledSigmaPoints(2, alpha=1e-3, beta=2, kappa=0)\n",
    "        UKF = UnscentedKalmanFilter(dim_x=dz, dim_z=dx,\n",
    "                                    dt=1, hx=Hx_1D, fx=fx,\n",
    "                                    points=points)\n",
    "\n",
    "        UKF.Q = G0 # process noise\n",
    "        UKF.R = covEstUKF # observation noise\n",
    "        UKF.P = np.cov(z0.T, rowvar=False) # Initial state covariance\n",
    "\n",
    "\n",
    "        zUKF = np.zeros((dz, n1))\n",
    "\n",
    "        for i in np.arange(n1):\n",
    "            UKF.predict()\n",
    "            UKF.update(z=x1[:, i])\n",
    "            zUKF[:, i] = UKF.x.flatten()\n",
    "\n",
    "        zpred.loc[iRun, 'UKF'] = zUKF\n",
    "        #rtime.loc[iRun, 'UKF'] = time.time() - tic\n",
    "    \n",
    "    \n",
    "    \n",
    "    \n",
    "    '''\n",
    "    Final step: Calculate and report performance.\n",
    "    '''\n",
    "    \n",
    "    def raw2abs_ang_err(ae):\n",
    "        return np.abs([ae - 2*np.pi, ae, ae + 2*np.pi]).min()\n",
    "\n",
    "    for method in zpred.columns:\n",
    "        # Skip any entry without data.\n",
    "        zF = zpred.loc[iRun, method]\n",
    "        if zF is np.NaN: continue\n",
    "        \n",
    "        if 'LSTM' in method:\n",
    "            # Remove the first n_steps-1 timesteps for LSTM methods.\n",
    "            z1_copy = z1.copy()\n",
    "            z1 = z1[:, n_steps-1:]\n",
    "        \n",
    "        rmse.loc[iRun, method] = np.sqrt(np.mean((zF - z1)**2)) # Store root mean-squared error\n",
    "        norm = np.sqrt(np.mean(z1**2))\n",
    "        nrmse.loc[iRun, method] = rmse.loc[iRun, method] / norm # Calculate normalized RMSE, such that predicting all zeros maps to 1.\n",
    "        \n",
    "        raw_ang_err = np.arctan2(zF[1], zF[0]) - np.arctan2(z1[1], z1[0])\n",
    "        abs_ang_error = np.array([raw2abs_ang_err(x) for x in raw_ang_err])\n",
    "        maae.loc[iRun, method] = abs_ang_error.mean() # Store mean absolute angle error.\n",
    "        \n",
    "        if 'LSTM' in method:\n",
    "            # Undo the changes made to z1\n",
    "            z1 = z1_copy"
   ]
  },
  {
   "cell_type": "markdown",
   "id": "1466f521-db97-4c62-beaa-019e12133404",
   "metadata": {},
   "source": [
    "### 4) Calculate averages, then Display + Save Results"
   ]
  },
  {
   "cell_type": "code",
   "execution_count": 5,
   "id": "81622c72-e61a-45ab-946e-6435f0153435",
   "metadata": {},
   "outputs": [],
   "source": [
    "nrmse.loc['avg_all'] = nrmse.mean()\n",
    "maae.loc['avg_all'] = maae.mean()\n",
    "nrmse.loc['avg_6'] = nrmse.loc[list(range(6))].mean()\n",
    "maae.loc['avg_6'] = maae.loc[list(range(6))].mean()"
   ]
  },
  {
   "cell_type": "code",
   "execution_count": 9,
   "id": "37daed1c-b7a1-49d9-9901-bf6cd2f8f477",
   "metadata": {},
   "outputs": [
    {
     "name": "stdout",
     "output_type": "stream",
     "text": [
      "Normalized Root Mean Square Error:\n"
     ]
    },
    {
     "data": {
      "text/html": [
       "<div>\n",
       "<style scoped>\n",
       "    .dataframe tbody tr th:only-of-type {\n",
       "        vertical-align: middle;\n",
       "    }\n",
       "\n",
       "    .dataframe tbody tr th {\n",
       "        vertical-align: top;\n",
       "    }\n",
       "\n",
       "    .dataframe thead th {\n",
       "        text-align: right;\n",
       "    }\n",
       "</style>\n",
       "<table border=\"1\" class=\"dataframe\">\n",
       "  <thead>\n",
       "    <tr style=\"text-align: right;\">\n",
       "      <th></th>\n",
       "      <th>0</th>\n",
       "      <th>1</th>\n",
       "      <th>2</th>\n",
       "      <th>3</th>\n",
       "      <th>4</th>\n",
       "      <th>5</th>\n",
       "      <th>avg_6</th>\n",
       "      <th>8</th>\n",
       "      <th>9</th>\n",
       "      <th>avg_all</th>\n",
       "    </tr>\n",
       "  </thead>\n",
       "  <tbody>\n",
       "    <tr>\n",
       "      <th>K</th>\n",
       "      <td>0.764696</td>\n",
       "      <td>0.944812</td>\n",
       "      <td>0.787808</td>\n",
       "      <td>0.791731</td>\n",
       "      <td>0.77874</td>\n",
       "      <td>0.7613</td>\n",
       "      <td>0.804848</td>\n",
       "      <td>1.008887</td>\n",
       "      <td>0.916075</td>\n",
       "      <td>0.844256</td>\n",
       "    </tr>\n",
       "    <tr>\n",
       "      <th>DKF_NW</th>\n",
       "      <td>-19%</td>\n",
       "      <td>-18%</td>\n",
       "      <td>-9%</td>\n",
       "      <td>-21%</td>\n",
       "      <td>-19%</td>\n",
       "      <td>-20%</td>\n",
       "      <td>-18%</td>\n",
       "      <td>-6%</td>\n",
       "      <td>1%</td>\n",
       "      <td>-13%</td>\n",
       "    </tr>\n",
       "    <tr>\n",
       "      <th>DKF_GP</th>\n",
       "      <td>-7%</td>\n",
       "      <td>-11%</td>\n",
       "      <td>-8%</td>\n",
       "      <td>-9%</td>\n",
       "      <td>-12%</td>\n",
       "      <td>-9%</td>\n",
       "      <td>-9%</td>\n",
       "      <td>-8%</td>\n",
       "      <td>-15%</td>\n",
       "      <td>-10%</td>\n",
       "    </tr>\n",
       "    <tr>\n",
       "      <th>DKF_NN</th>\n",
       "      <td>-23%</td>\n",
       "      <td>-0%</td>\n",
       "      <td>-7%</td>\n",
       "      <td>-15%</td>\n",
       "      <td>-19%</td>\n",
       "      <td>-22%</td>\n",
       "      <td>-14%</td>\n",
       "      <td>-2%</td>\n",
       "      <td>-9%</td>\n",
       "      <td>-12%</td>\n",
       "    </tr>\n",
       "    <tr>\n",
       "      <th>LSTM</th>\n",
       "      <td>-22%</td>\n",
       "      <td>-1%</td>\n",
       "      <td>-21%</td>\n",
       "      <td>-19%</td>\n",
       "      <td>-21%</td>\n",
       "      <td>-25%</td>\n",
       "      <td>-18%</td>\n",
       "      <td>-8%</td>\n",
       "      <td>-11%</td>\n",
       "      <td>-15%</td>\n",
       "    </tr>\n",
       "    <tr>\n",
       "      <th>EKF</th>\n",
       "      <td>-1%</td>\n",
       "      <td>7%</td>\n",
       "      <td>8%</td>\n",
       "      <td>18%</td>\n",
       "      <td>11%</td>\n",
       "      <td>6%</td>\n",
       "      <td>8%</td>\n",
       "      <td>3%</td>\n",
       "      <td>16%</td>\n",
       "      <td>8%</td>\n",
       "    </tr>\n",
       "    <tr>\n",
       "      <th>UKF</th>\n",
       "      <td>1%</td>\n",
       "      <td>1%</td>\n",
       "      <td>6%</td>\n",
       "      <td>11%</td>\n",
       "      <td>5%</td>\n",
       "      <td>3%</td>\n",
       "      <td>4%</td>\n",
       "      <td>-4%</td>\n",
       "      <td>0%</td>\n",
       "      <td>3%</td>\n",
       "    </tr>\n",
       "  </tbody>\n",
       "</table>\n",
       "</div>"
      ],
      "text/plain": [
       "               0         1         2         3        4       5     avg_6  \\\n",
       "K       0.764696  0.944812  0.787808  0.791731  0.77874  0.7613  0.804848   \n",
       "DKF_NW      -19%      -18%       -9%      -21%     -19%    -20%      -18%   \n",
       "DKF_GP       -7%      -11%       -8%       -9%     -12%     -9%       -9%   \n",
       "DKF_NN      -23%       -0%       -7%      -15%     -19%    -22%      -14%   \n",
       "LSTM        -22%       -1%      -21%      -19%     -21%    -25%      -18%   \n",
       "EKF          -1%        7%        8%       18%      11%      6%        8%   \n",
       "UKF           1%        1%        6%       11%       5%      3%        4%   \n",
       "\n",
       "               8         9   avg_all  \n",
       "K       1.008887  0.916075  0.844256  \n",
       "DKF_NW       -6%        1%      -13%  \n",
       "DKF_GP       -8%      -15%      -10%  \n",
       "DKF_NN       -2%       -9%      -12%  \n",
       "LSTM         -8%      -11%      -15%  \n",
       "EKF           3%       16%        8%  \n",
       "UKF          -4%        0%        3%  "
      ]
     },
     "metadata": {},
     "output_type": "display_data"
    }
   ],
   "source": [
    "table1 = nrmse[['K', 'DKF_NW', 'DKF_GP', 'DKF_NN', 'LSTM', 'EKF', 'UKF']].T.astype(float)\n",
    "#table1 = nrmse\n",
    "for idx in table1.index:\n",
    "    if idx == 'K': continue\n",
    "        \n",
    "    # Convert to a percentage relative to 'K'\n",
    "    table1.loc[idx] = table1.loc[idx] / table1.loc['K'] - 1\n",
    "    \n",
    "    # Convert to a percentage string\n",
    "    table1.loc[idx] = table1.loc[idx].map(lambda n: '{:.0%}'.format(n))\n",
    "    \n",
    "    # Move the avg_6 column to position 6\n",
    "    table1.insert(6, 'avg_6', table1.pop('avg_6'))\n",
    "    \n",
    "\n",
    "print('Normalized Root Mean Square Error:')\n",
    "display(table1)"
   ]
  },
  {
   "cell_type": "code",
   "execution_count": 10,
   "id": "ab44dced-89dc-4187-892f-e6e54613b412",
   "metadata": {},
   "outputs": [
    {
     "name": "stdout",
     "output_type": "stream",
     "text": [
      "Mean absolute angle error:\n"
     ]
    },
    {
     "data": {
      "text/html": [
       "<div>\n",
       "<style scoped>\n",
       "    .dataframe tbody tr th:only-of-type {\n",
       "        vertical-align: middle;\n",
       "    }\n",
       "\n",
       "    .dataframe tbody tr th {\n",
       "        vertical-align: top;\n",
       "    }\n",
       "\n",
       "    .dataframe thead th {\n",
       "        text-align: right;\n",
       "    }\n",
       "</style>\n",
       "<table border=\"1\" class=\"dataframe\">\n",
       "  <thead>\n",
       "    <tr style=\"text-align: right;\">\n",
       "      <th></th>\n",
       "      <th>0</th>\n",
       "      <th>1</th>\n",
       "      <th>2</th>\n",
       "      <th>3</th>\n",
       "      <th>4</th>\n",
       "      <th>5</th>\n",
       "      <th>avg_6</th>\n",
       "      <th>8</th>\n",
       "      <th>9</th>\n",
       "      <th>avg_all</th>\n",
       "    </tr>\n",
       "  </thead>\n",
       "  <tbody>\n",
       "    <tr>\n",
       "      <th>K</th>\n",
       "      <td>0.884358</td>\n",
       "      <td>0.956565</td>\n",
       "      <td>1.025778</td>\n",
       "      <td>0.93013</td>\n",
       "      <td>0.966334</td>\n",
       "      <td>0.926246</td>\n",
       "      <td>0.948235</td>\n",
       "      <td>0.969623</td>\n",
       "      <td>1.032764</td>\n",
       "      <td>0.961475</td>\n",
       "    </tr>\n",
       "    <tr>\n",
       "      <th>DKF_NW</th>\n",
       "      <td>-14%</td>\n",
       "      <td>-0%</td>\n",
       "      <td>-21%</td>\n",
       "      <td>-15%</td>\n",
       "      <td>-25%</td>\n",
       "      <td>-29%</td>\n",
       "      <td>-17%</td>\n",
       "      <td>-5%</td>\n",
       "      <td>-7%</td>\n",
       "      <td>-14%</td>\n",
       "    </tr>\n",
       "    <tr>\n",
       "      <th>DKF_GP</th>\n",
       "      <td>-5%</td>\n",
       "      <td>10%</td>\n",
       "      <td>-19%</td>\n",
       "      <td>-7%</td>\n",
       "      <td>-17%</td>\n",
       "      <td>-21%</td>\n",
       "      <td>-10%</td>\n",
       "      <td>1%</td>\n",
       "      <td>-6%</td>\n",
       "      <td>-8%</td>\n",
       "    </tr>\n",
       "    <tr>\n",
       "      <th>DKF_NN</th>\n",
       "      <td>-9%</td>\n",
       "      <td>11%</td>\n",
       "      <td>-15%</td>\n",
       "      <td>-11%</td>\n",
       "      <td>-19%</td>\n",
       "      <td>-21%</td>\n",
       "      <td>-11%</td>\n",
       "      <td>-2%</td>\n",
       "      <td>4%</td>\n",
       "      <td>-8%</td>\n",
       "    </tr>\n",
       "    <tr>\n",
       "      <th>LSTM</th>\n",
       "      <td>-6%</td>\n",
       "      <td>13%</td>\n",
       "      <td>-18%</td>\n",
       "      <td>-12%</td>\n",
       "      <td>-20%</td>\n",
       "      <td>-20%</td>\n",
       "      <td>-11%</td>\n",
       "      <td>-3%</td>\n",
       "      <td>-4%</td>\n",
       "      <td>-9%</td>\n",
       "    </tr>\n",
       "    <tr>\n",
       "      <th>EKF</th>\n",
       "      <td>1%</td>\n",
       "      <td>12%</td>\n",
       "      <td>2%</td>\n",
       "      <td>5%</td>\n",
       "      <td>-8%</td>\n",
       "      <td>-1%</td>\n",
       "      <td>2%</td>\n",
       "      <td>4%</td>\n",
       "      <td>20%</td>\n",
       "      <td>4%</td>\n",
       "    </tr>\n",
       "    <tr>\n",
       "      <th>UKF</th>\n",
       "      <td>-1%</td>\n",
       "      <td>9%</td>\n",
       "      <td>1%</td>\n",
       "      <td>2%</td>\n",
       "      <td>-10%</td>\n",
       "      <td>-6%</td>\n",
       "      <td>-1%</td>\n",
       "      <td>-1%</td>\n",
       "      <td>13%</td>\n",
       "      <td>1%</td>\n",
       "    </tr>\n",
       "  </tbody>\n",
       "</table>\n",
       "</div>"
      ],
      "text/plain": [
       "               0         1         2        3         4         5     avg_6  \\\n",
       "K       0.884358  0.956565  1.025778  0.93013  0.966334  0.926246  0.948235   \n",
       "DKF_NW      -14%       -0%      -21%     -15%      -25%      -29%      -17%   \n",
       "DKF_GP       -5%       10%      -19%      -7%      -17%      -21%      -10%   \n",
       "DKF_NN       -9%       11%      -15%     -11%      -19%      -21%      -11%   \n",
       "LSTM         -6%       13%      -18%     -12%      -20%      -20%      -11%   \n",
       "EKF           1%       12%        2%       5%       -8%       -1%        2%   \n",
       "UKF          -1%        9%        1%       2%      -10%       -6%       -1%   \n",
       "\n",
       "               8         9   avg_all  \n",
       "K       0.969623  1.032764  0.961475  \n",
       "DKF_NW       -5%       -7%      -14%  \n",
       "DKF_GP        1%       -6%       -8%  \n",
       "DKF_NN       -2%        4%       -8%  \n",
       "LSTM         -3%       -4%       -9%  \n",
       "EKF           4%       20%        4%  \n",
       "UKF          -1%       13%        1%  "
      ]
     },
     "metadata": {},
     "output_type": "display_data"
    }
   ],
   "source": [
    "table2 = maae[['K', 'DKF_NW', 'DKF_GP', 'DKF_NN', 'LSTM', 'EKF', 'UKF']].T.astype(float)\n",
    "\n",
    "for idx in table2.index:\n",
    "    if idx == 'K': continue\n",
    "        \n",
    "    # Convert to a percentage relative to 'K'\n",
    "    table2.loc[idx] = table2.loc[idx] / table2.loc['K'] - 1\n",
    "    \n",
    "    # Convert to a percentage string\n",
    "    table2.loc[idx] = table2.loc[idx].map(lambda n: '{:.0%}'.format(n))\n",
    "    \n",
    "    # Move the avg_6 column to position 6\n",
    "    table2.insert(6, 'avg_6', table2.pop('avg_6'))\n",
    "    \n",
    "\n",
    "print('Mean absolute angle error:')\n",
    "display(table2)"
   ]
  },
  {
   "cell_type": "markdown",
   "id": "12a51950-7c1d-4dff-b9d8-f7b8e01de883",
   "metadata": {},
   "source": [
    "### Optional: Save results"
   ]
  },
  {
   "cell_type": "code",
   "execution_count": null,
   "id": "d8928489-28ed-491b-82d8-8c6fa0116ebe",
   "metadata": {},
   "outputs": [],
   "source": [
    "savedir = \"results\"\n",
    "os.makedirs(savedir, exist_ok=True)\n",
    "\n",
    "nrmse.to_csv(os.path.join(savedir, f\"nrmse_{seed}.csv\"))\n",
    "maae.to_csv(os.path.join(savedir, f\"maae_{seed}.csv\"))"
   ]
  },
  {
   "cell_type": "markdown",
   "id": "b8b991bc-c076-4e1c-9a7d-988ab2d0b914",
   "metadata": {},
   "source": [
    "### Optional: plot"
   ]
  },
  {
   "cell_type": "code",
   "execution_count": 11,
   "id": "408065cc-dea2-4bb2-b3c7-dbd767344caa",
   "metadata": {
    "tags": []
   },
   "outputs": [
    {
     "data": {
      "image/png": "[encoded data removed]",
      "text/plain": [
       "<Figure size 640x480 with 1 Axes>"
      ]
     },
     "metadata": {},
     "output_type": "display_data"
    }
   ],
   "source": [
    "iRun_plot = 2\n",
    "T = np.arange(20, 25)\n",
    "\n",
    "for method in zpred.columns[1:]:\n",
    "    \n",
    "    if 'DKF' not in method and 'LSTM' not in method: continue\n",
    "    \n",
    "    # Don't try to plot any entries that aren't filled in.\n",
    "    if type(zpred.loc[iRun_plot, method]) != np.ndarray: continue\n",
    "        \n",
    "    # Plot the graph associated with method.\n",
    "    plt.plot(zpred.loc[iRun_plot, method][0, T], zpred.loc[iRun_plot, method][1, T], label=method)\n",
    "    \n",
    "# Plot the ground truth state.\n",
    "plt.plot(z1[0, T], z1[1, T], '--', label='Truth')\n",
    "plt.legend()\n",
    "plt.show()"
   ]
  }
 ],
 "metadata": {
  "kernelspec": {
   "display_name": "Python 3",
   "language": "python",
   "name": "python3"
  },
  "language_info": {
   "codemirror_mode": {
    "name": "ipython",
    "version": 3
   },
   "file_extension": ".py",
   "mimetype": "text/x-python",
   "name": "python",
   "nbconvert_exporter": "python",
   "pygments_lexer": "ipython3",
   "version": "3.8.8"
  }
 },
 "nbformat": 4,
 "nbformat_minor": 5
}
